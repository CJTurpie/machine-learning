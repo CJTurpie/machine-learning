{
 "cells": [
  {
   "cell_type": "code",
   "execution_count": 57,
   "metadata": {
    "collapsed": false
   },
   "outputs": [
    {
     "data": {
      "text/html": [
       "<div>\n",
       "<table border=\"1\" class=\"dataframe\">\n",
       "  <thead>\n",
       "    <tr style=\"text-align: right;\">\n",
       "      <th></th>\n",
       "      <th>Open</th>\n",
       "      <th>High</th>\n",
       "      <th>Low</th>\n",
       "      <th>Close</th>\n",
       "      <th>Volume</th>\n",
       "      <th>Adj Close</th>\n",
       "    </tr>\n",
       "    <tr>\n",
       "      <th>Date</th>\n",
       "      <th></th>\n",
       "      <th></th>\n",
       "      <th></th>\n",
       "      <th></th>\n",
       "      <th></th>\n",
       "      <th></th>\n",
       "    </tr>\n",
       "  </thead>\n",
       "  <tbody>\n",
       "    <tr>\n",
       "      <th>2010-01-04</th>\n",
       "      <td>626.951088</td>\n",
       "      <td>629.511067</td>\n",
       "      <td>624.241073</td>\n",
       "      <td>626.751061</td>\n",
       "      <td>3927000</td>\n",
       "      <td>313.062468</td>\n",
       "    </tr>\n",
       "    <tr>\n",
       "      <th>2010-01-05</th>\n",
       "      <td>627.181073</td>\n",
       "      <td>627.841071</td>\n",
       "      <td>621.541045</td>\n",
       "      <td>623.991055</td>\n",
       "      <td>6031900</td>\n",
       "      <td>311.683844</td>\n",
       "    </tr>\n",
       "    <tr>\n",
       "      <th>2010-01-06</th>\n",
       "      <td>625.861078</td>\n",
       "      <td>625.861078</td>\n",
       "      <td>606.361042</td>\n",
       "      <td>608.261023</td>\n",
       "      <td>7987100</td>\n",
       "      <td>303.826685</td>\n",
       "    </tr>\n",
       "    <tr>\n",
       "      <th>2010-01-07</th>\n",
       "      <td>609.401025</td>\n",
       "      <td>610.001045</td>\n",
       "      <td>592.651008</td>\n",
       "      <td>594.101005</td>\n",
       "      <td>12876600</td>\n",
       "      <td>296.753749</td>\n",
       "    </tr>\n",
       "    <tr>\n",
       "      <th>2010-01-08</th>\n",
       "      <td>592.000997</td>\n",
       "      <td>603.251034</td>\n",
       "      <td>589.110988</td>\n",
       "      <td>602.021036</td>\n",
       "      <td>9483900</td>\n",
       "      <td>300.709808</td>\n",
       "    </tr>\n",
       "  </tbody>\n",
       "</table>\n",
       "</div>"
      ],
      "text/plain": [
       "                  Open        High         Low       Close    Volume  \\\n",
       "Date                                                                   \n",
       "2010-01-04  626.951088  629.511067  624.241073  626.751061   3927000   \n",
       "2010-01-05  627.181073  627.841071  621.541045  623.991055   6031900   \n",
       "2010-01-06  625.861078  625.861078  606.361042  608.261023   7987100   \n",
       "2010-01-07  609.401025  610.001045  592.651008  594.101005  12876600   \n",
       "2010-01-08  592.000997  603.251034  589.110988  602.021036   9483900   \n",
       "\n",
       "             Adj Close  \n",
       "Date                    \n",
       "2010-01-04  313.062468  \n",
       "2010-01-05  311.683844  \n",
       "2010-01-06  303.826685  \n",
       "2010-01-07  296.753749  \n",
       "2010-01-08  300.709808  "
      ]
     },
     "execution_count": 57,
     "metadata": {},
     "output_type": "execute_result"
    }
   ],
   "source": [
    "import pandas_datareader.data as web\n",
    "import datetime\n",
    "\n",
    "ticker = 'GOOG'\n",
    "\n",
    "start = datetime.datetime(2010,1,1)\n",
    "end = datetime.datetime(2017,3,28)\n",
    "\n",
    "data = web.DataReader(ticker, 'yahoo', start, end)\n",
    "\n",
    "data.head()\n"
   ]
  },
  {
   "cell_type": "code",
   "execution_count": 58,
   "metadata": {
    "collapsed": false,
    "scrolled": true
   },
   "outputs": [
    {
     "data": {
      "image/png": "[encoded data removed]",
      "text/plain": [
       "<matplotlib.figure.Figure at 0xd3bf7b8>"
      ]
     },
     "metadata": {},
     "output_type": "display_data"
    }
   ],
   "source": [
    "import matplotlib.pyplot as plt\n",
    "\n",
    "column = 'Adj Close'\n",
    "\n",
    "plt.plot(data[column])\n",
    "plt.title(ticker + ' ' + column)\n",
    "plt.xlabel('Date')\n",
    "plt.ylabel('Price')\n",
    "plt.show()"
   ]
  },
  {
   "cell_type": "code",
   "execution_count": 64,
   "metadata": {
    "collapsed": false
   },
   "outputs": [
    {
     "data": {
      "text/html": [
       "<div>\n",
       "<table border=\"1\" class=\"dataframe\">\n",
       "  <thead>\n",
       "    <tr style=\"text-align: right;\">\n",
       "      <th></th>\n",
       "      <th>Open</th>\n",
       "      <th>High</th>\n",
       "      <th>Low</th>\n",
       "      <th>Close</th>\n",
       "      <th>Volume</th>\n",
       "      <th>Adj Close</th>\n",
       "      <th>Daily Return</th>\n",
       "      <th>Momentum 5d</th>\n",
       "      <th>Momentum 10d</th>\n",
       "    </tr>\n",
       "    <tr>\n",
       "      <th>Date</th>\n",
       "      <th></th>\n",
       "      <th></th>\n",
       "      <th></th>\n",
       "      <th></th>\n",
       "      <th></th>\n",
       "      <th></th>\n",
       "      <th></th>\n",
       "      <th></th>\n",
       "      <th></th>\n",
       "    </tr>\n",
       "  </thead>\n",
       "  <tbody>\n",
       "    <tr>\n",
       "      <th>2010-01-04</th>\n",
       "      <td>626.951088</td>\n",
       "      <td>629.511067</td>\n",
       "      <td>624.241073</td>\n",
       "      <td>626.751061</td>\n",
       "      <td>3927000</td>\n",
       "      <td>313.062468</td>\n",
       "      <td>NaN</td>\n",
       "      <td>NaN</td>\n",
       "      <td>NaN</td>\n",
       "    </tr>\n",
       "    <tr>\n",
       "      <th>2010-01-05</th>\n",
       "      <td>627.181073</td>\n",
       "      <td>627.841071</td>\n",
       "      <td>621.541045</td>\n",
       "      <td>623.991055</td>\n",
       "      <td>6031900</td>\n",
       "      <td>311.683844</td>\n",
       "      <td>-0.004404</td>\n",
       "      <td>NaN</td>\n",
       "      <td>NaN</td>\n",
       "    </tr>\n",
       "    <tr>\n",
       "      <th>2010-01-06</th>\n",
       "      <td>625.861078</td>\n",
       "      <td>625.861078</td>\n",
       "      <td>606.361042</td>\n",
       "      <td>608.261023</td>\n",
       "      <td>7987100</td>\n",
       "      <td>303.826685</td>\n",
       "      <td>-0.025209</td>\n",
       "      <td>NaN</td>\n",
       "      <td>NaN</td>\n",
       "    </tr>\n",
       "    <tr>\n",
       "      <th>2010-01-07</th>\n",
       "      <td>609.401025</td>\n",
       "      <td>610.001045</td>\n",
       "      <td>592.651008</td>\n",
       "      <td>594.101005</td>\n",
       "      <td>12876600</td>\n",
       "      <td>296.753749</td>\n",
       "      <td>-0.023280</td>\n",
       "      <td>NaN</td>\n",
       "      <td>NaN</td>\n",
       "    </tr>\n",
       "    <tr>\n",
       "      <th>2010-01-08</th>\n",
       "      <td>592.000997</td>\n",
       "      <td>603.251034</td>\n",
       "      <td>589.110988</td>\n",
       "      <td>602.021036</td>\n",
       "      <td>9483900</td>\n",
       "      <td>300.709808</td>\n",
       "      <td>0.013331</td>\n",
       "      <td>NaN</td>\n",
       "      <td>NaN</td>\n",
       "    </tr>\n",
       "  </tbody>\n",
       "</table>\n",
       "</div>"
      ],
      "text/plain": [
       "                  Open        High         Low       Close    Volume  \\\n",
       "Date                                                                   \n",
       "2010-01-04  626.951088  629.511067  624.241073  626.751061   3927000   \n",
       "2010-01-05  627.181073  627.841071  621.541045  623.991055   6031900   \n",
       "2010-01-06  625.861078  625.861078  606.361042  608.261023   7987100   \n",
       "2010-01-07  609.401025  610.001045  592.651008  594.101005  12876600   \n",
       "2010-01-08  592.000997  603.251034  589.110988  602.021036   9483900   \n",
       "\n",
       "             Adj Close  Daily Return  Momentum 5d  Momentum 10d  \n",
       "Date                                                             \n",
       "2010-01-04  313.062468           NaN          NaN           NaN  \n",
       "2010-01-05  311.683844     -0.004404          NaN           NaN  \n",
       "2010-01-06  303.826685     -0.025209          NaN           NaN  \n",
       "2010-01-07  296.753749     -0.023280          NaN           NaN  \n",
       "2010-01-08  300.709808      0.013331          NaN           NaN  "
      ]
     },
     "execution_count": 64,
     "metadata": {},
     "output_type": "execute_result"
    }
   ],
   "source": [
    "data['Daily Return'] = data['Adj Close'].pct_change(1)\n",
    "\n",
    "data.head()"
   ]
  },
  {
   "cell_type": "code",
   "execution_count": 65,
   "metadata": {
    "collapsed": false
   },
   "outputs": [
    {
     "data": {
      "image/png": "[encoded data removed]",
      "text/plain": [
       "<matplotlib.figure.Figure at 0xdd547b8>"
      ]
     },
     "metadata": {},
     "output_type": "display_data"
    }
   ],
   "source": [
    "plt.plot(data['Daily Return'])\n",
    "plt.title(ticker + ' Daily Return')\n",
    "plt.xlabel('Date')\n",
    "plt.ylabel('Daily Return')\n",
    "plt.show()"
   ]
  },
  {
   "cell_type": "code",
   "execution_count": 69,
   "metadata": {
    "collapsed": false
   },
   "outputs": [
    {
     "data": {
      "text/html": [
       "<div>\n",
       "<table border=\"1\" class=\"dataframe\">\n",
       "  <thead>\n",
       "    <tr style=\"text-align: right;\">\n",
       "      <th></th>\n",
       "      <th>Open</th>\n",
       "      <th>High</th>\n",
       "      <th>Low</th>\n",
       "      <th>Close</th>\n",
       "      <th>Volume</th>\n",
       "      <th>Adj Close</th>\n",
       "      <th>Daily Return</th>\n",
       "      <th>Momentum 5d</th>\n",
       "      <th>Momentum 10d</th>\n",
       "    </tr>\n",
       "    <tr>\n",
       "      <th>Date</th>\n",
       "      <th></th>\n",
       "      <th></th>\n",
       "      <th></th>\n",
       "      <th></th>\n",
       "      <th></th>\n",
       "      <th></th>\n",
       "      <th></th>\n",
       "      <th></th>\n",
       "      <th></th>\n",
       "    </tr>\n",
       "  </thead>\n",
       "  <tbody>\n",
       "    <tr>\n",
       "      <th>2010-01-19</th>\n",
       "      <td>581.201005</td>\n",
       "      <td>590.420997</td>\n",
       "      <td>576.290999</td>\n",
       "      <td>587.620986</td>\n",
       "      <td>8665700</td>\n",
       "      <td>293.516976</td>\n",
       "      <td>-0.012270</td>\n",
       "      <td>-0.022442</td>\n",
       "      <td>-0.062433</td>\n",
       "    </tr>\n",
       "    <tr>\n",
       "      <th>2010-01-20</th>\n",
       "      <td>585.981009</td>\n",
       "      <td>585.981009</td>\n",
       "      <td>575.290986</td>\n",
       "      <td>580.411005</td>\n",
       "      <td>6525700</td>\n",
       "      <td>289.915587</td>\n",
       "      <td>0.004428</td>\n",
       "      <td>-0.017054</td>\n",
       "      <td>-0.069841</td>\n",
       "    </tr>\n",
       "    <tr>\n",
       "      <th>2010-01-21</th>\n",
       "      <td>583.441002</td>\n",
       "      <td>586.821000</td>\n",
       "      <td>572.251003</td>\n",
       "      <td>582.980970</td>\n",
       "      <td>12662600</td>\n",
       "      <td>291.199286</td>\n",
       "      <td>-0.056554</td>\n",
       "      <td>-0.007001</td>\n",
       "      <td>-0.041561</td>\n",
       "    </tr>\n",
       "    <tr>\n",
       "      <th>2010-01-22</th>\n",
       "      <td>564.500980</td>\n",
       "      <td>570.600979</td>\n",
       "      <td>534.860888</td>\n",
       "      <td>550.010933</td>\n",
       "      <td>13651700</td>\n",
       "      <td>274.730736</td>\n",
       "      <td>-0.018200</td>\n",
       "      <td>-0.067543</td>\n",
       "      <td>-0.074213</td>\n",
       "    </tr>\n",
       "    <tr>\n",
       "      <th>2010-01-25</th>\n",
       "      <td>546.590929</td>\n",
       "      <td>549.880931</td>\n",
       "      <td>535.510900</td>\n",
       "      <td>540.000941</td>\n",
       "      <td>8872800</td>\n",
       "      <td>269.730740</td>\n",
       "      <td>0.004481</td>\n",
       "      <td>-0.068965</td>\n",
       "      <td>-0.103020</td>\n",
       "    </tr>\n",
       "  </tbody>\n",
       "</table>\n",
       "</div>"
      ],
      "text/plain": [
       "                  Open        High         Low       Close    Volume  \\\n",
       "Date                                                                   \n",
       "2010-01-19  581.201005  590.420997  576.290999  587.620986   8665700   \n",
       "2010-01-20  585.981009  585.981009  575.290986  580.411005   6525700   \n",
       "2010-01-21  583.441002  586.821000  572.251003  582.980970  12662600   \n",
       "2010-01-22  564.500980  570.600979  534.860888  550.010933  13651700   \n",
       "2010-01-25  546.590929  549.880931  535.510900  540.000941   8872800   \n",
       "\n",
       "             Adj Close  Daily Return  Momentum 5d  Momentum 10d  \n",
       "Date                                                             \n",
       "2010-01-19  293.516976     -0.012270    -0.022442     -0.062433  \n",
       "2010-01-20  289.915587      0.004428    -0.017054     -0.069841  \n",
       "2010-01-21  291.199286     -0.056554    -0.007001     -0.041561  \n",
       "2010-01-22  274.730736     -0.018200    -0.067543     -0.074213  \n",
       "2010-01-25  269.730740      0.004481    -0.068965     -0.103020  "
      ]
     },
     "execution_count": 69,
     "metadata": {},
     "output_type": "execute_result"
    }
   ],
   "source": [
    "data_no_nan = data\n",
    "data_no_nan['Daily Return']= data_no_nan['Daily Return'].shift(-1)\n",
    "data_no_nan = data_no_nan.dropna()\n",
    "\n",
    "data_no_nan.head()"
   ]
  },
  {
   "cell_type": "code",
   "execution_count": 70,
   "metadata": {
    "collapsed": false
   },
   "outputs": [
    {
     "name": "stdout",
     "output_type": "stream",
     "text": [
      "[-0.12168874  0.00191742 -0.03018112 -0.14457984 -0.05394997 -0.00384797\n",
      " -0.00970138 -0.01400151 -0.00140953  0.00211539]\n",
      "-0.0375327238839\n",
      "[  2.74869171e-04   4.33291496e-04   2.06315565e-04   2.07672345e-04\n",
      "   2.17243201e-04   1.97593701e-04   1.56314451e-04   4.41164149e-04\n",
      "   1.96807571e-04   8.18961129e-05]\n",
      "0.35083073565\n"
     ]
    }
   ],
   "source": [
    "from sklearn.model_selection import TimeSeriesSplit, cross_val_score\n",
    "from sklearn import linear_model\n",
    "from sklearn.metrics import mean_squared_error, make_scorer\n",
    "\n",
    "X = data_no_nan[['Volume', 'Adj Close']]\n",
    "y = data_no_nan['Daily Return']\n",
    "\n",
    "tscv = TimeSeriesSplit(n_splits=10)\n",
    "\n",
    "linear = linear_model.LinearRegression(normalize=True)\n",
    "\n",
    "print(cross_val_score(linear, X, y, cv=tscv))\n",
    "\n",
    "print(cross_val_score(linear, X, y, cv=tscv).mean())\n",
    "\n",
    "mse_scorer = make_scorer(mean_squared_error)\n",
    "\n",
    "print(cross_val_score(linear, X, y, scoring=mse_scorer, cv=tscv))\n",
    "\n",
    "print(cross_val_score(linear, X, y, scoring=mse_scorer, cv=tscv).mean()/y.mean())"
   ]
  },
  {
   "cell_type": "code",
   "execution_count": 71,
   "metadata": {
    "collapsed": false
   },
   "outputs": [
    {
     "data": {
      "text/html": [
       "<div>\n",
       "<table border=\"1\" class=\"dataframe\">\n",
       "  <thead>\n",
       "    <tr style=\"text-align: right;\">\n",
       "      <th></th>\n",
       "      <th>Open</th>\n",
       "      <th>High</th>\n",
       "      <th>Low</th>\n",
       "      <th>Close</th>\n",
       "      <th>Volume</th>\n",
       "      <th>Adj Close</th>\n",
       "      <th>Daily Return</th>\n",
       "      <th>Momentum 5d</th>\n",
       "      <th>Momentum 10d</th>\n",
       "    </tr>\n",
       "    <tr>\n",
       "      <th>Date</th>\n",
       "      <th></th>\n",
       "      <th></th>\n",
       "      <th></th>\n",
       "      <th></th>\n",
       "      <th></th>\n",
       "      <th></th>\n",
       "      <th></th>\n",
       "      <th></th>\n",
       "      <th></th>\n",
       "    </tr>\n",
       "  </thead>\n",
       "  <tbody>\n",
       "    <tr>\n",
       "      <th>2017-03-22</th>\n",
       "      <td>831.909973</td>\n",
       "      <td>835.549988</td>\n",
       "      <td>827.179993</td>\n",
       "      <td>829.590027</td>\n",
       "      <td>1392700</td>\n",
       "      <td>829.590027</td>\n",
       "      <td>-0.014477</td>\n",
       "      <td>-0.020786</td>\n",
       "      <td>-0.006919</td>\n",
       "    </tr>\n",
       "    <tr>\n",
       "      <th>2017-03-23</th>\n",
       "      <td>821.000000</td>\n",
       "      <td>822.570007</td>\n",
       "      <td>812.257019</td>\n",
       "      <td>817.580017</td>\n",
       "      <td>3483800</td>\n",
       "      <td>817.580017</td>\n",
       "      <td>-0.003853</td>\n",
       "      <td>-0.036759</td>\n",
       "      <td>-0.025159</td>\n",
       "    </tr>\n",
       "    <tr>\n",
       "      <th>2017-03-24</th>\n",
       "      <td>820.080017</td>\n",
       "      <td>821.929993</td>\n",
       "      <td>808.890015</td>\n",
       "      <td>814.429993</td>\n",
       "      <td>1970900</td>\n",
       "      <td>814.429993</td>\n",
       "      <td>0.006238</td>\n",
       "      <td>-0.044231</td>\n",
       "      <td>-0.034177</td>\n",
       "    </tr>\n",
       "    <tr>\n",
       "      <th>2017-03-27</th>\n",
       "      <td>806.950012</td>\n",
       "      <td>821.630005</td>\n",
       "      <td>803.369995</td>\n",
       "      <td>819.510010</td>\n",
       "      <td>1894300</td>\n",
       "      <td>819.510010</td>\n",
       "      <td>0.001721</td>\n",
       "      <td>-0.034052</td>\n",
       "      <td>-0.030785</td>\n",
       "    </tr>\n",
       "    <tr>\n",
       "      <th>2017-03-28</th>\n",
       "      <td>820.409973</td>\n",
       "      <td>825.989990</td>\n",
       "      <td>814.026978</td>\n",
       "      <td>820.919983</td>\n",
       "      <td>1618000</td>\n",
       "      <td>820.919983</td>\n",
       "      <td>NaN</td>\n",
       "      <td>-0.011488</td>\n",
       "      <td>-0.029209</td>\n",
       "    </tr>\n",
       "  </tbody>\n",
       "</table>\n",
       "</div>"
      ],
      "text/plain": [
       "                  Open        High         Low       Close   Volume  \\\n",
       "Date                                                                  \n",
       "2017-03-22  831.909973  835.549988  827.179993  829.590027  1392700   \n",
       "2017-03-23  821.000000  822.570007  812.257019  817.580017  3483800   \n",
       "2017-03-24  820.080017  821.929993  808.890015  814.429993  1970900   \n",
       "2017-03-27  806.950012  821.630005  803.369995  819.510010  1894300   \n",
       "2017-03-28  820.409973  825.989990  814.026978  820.919983  1618000   \n",
       "\n",
       "             Adj Close  Daily Return  Momentum 5d  Momentum 10d  \n",
       "Date                                                             \n",
       "2017-03-22  829.590027     -0.014477    -0.020786     -0.006919  \n",
       "2017-03-23  817.580017     -0.003853    -0.036759     -0.025159  \n",
       "2017-03-24  814.429993      0.006238    -0.044231     -0.034177  \n",
       "2017-03-27  819.510010      0.001721    -0.034052     -0.030785  \n",
       "2017-03-28  820.919983           NaN    -0.011488     -0.029209  "
      ]
     },
     "execution_count": 71,
     "metadata": {},
     "output_type": "execute_result"
    }
   ],
   "source": [
    "data['Momentum 5d'] = data['Adj Close'].pct_change(5)\n",
    "data['Momentum 10d'] = data['Adj Close'].pct_change(10)\n",
    "\n",
    "data.tail()"
   ]
  },
  {
   "cell_type": "code",
   "execution_count": 81,
   "metadata": {
    "collapsed": false
   },
   "outputs": [
    {
     "name": "stdout",
     "output_type": "stream",
     "text": [
      "[-0.11629    -0.00745591 -0.02699305 -0.21075821 -0.07940264 -0.00290149\n",
      " -0.0164823  -0.01495576  0.00375565  0.00731149]\n",
      "-0.0464172215577\n",
      "[  2.73546212e-04   4.37360683e-04   2.05677086e-04   2.19679735e-04\n",
      "   2.22489578e-04   1.97407399e-04   1.57364222e-04   4.41579321e-04\n",
      "   1.95792456e-04   8.14696706e-05]\n",
      "0.351020128317\n"
     ]
    }
   ],
   "source": [
    "data_no_nan = data\n",
    "data_no_nan['Daily Return']= data_no_nan['Daily Return'].shift(-1)\n",
    "data_no_nan = data_no_nan.dropna()\n",
    "\n",
    "X = data_no_nan[['Volume', 'Adj Close', 'Momentum 5d', 'Momentum 10d']]\n",
    "y = data_no_nan['Daily Return']\n",
    "\n",
    "tscv = TimeSeriesSplit(n_splits=10)\n",
    "\n",
    "linear = linear_model.LinearRegression(normalize=True)\n",
    "\n",
    "print(cross_val_score(linear, X, y, cv=tscv))\n",
    "\n",
    "print(cross_val_score(linear, X, y, cv=tscv).mean())\n",
    "\n",
    "mse_scorer = make_scorer(mean_squared_error)\n",
    "\n",
    "print(cross_val_score(linear, X, y, scoring=mse_scorer, cv=tscv))\n",
    "\n",
    "print(cross_val_score(linear, X, y, scoring=mse_scorer, cv=tscv).mean()/y.mean())"
   ]
  },
  {
   "cell_type": "code",
   "execution_count": 139,
   "metadata": {
    "collapsed": false
   },
   "outputs": [
    {
     "name": "stdout",
     "output_type": "stream",
     "text": [
      "1806\n"
     ]
    },
    {
     "data": {
      "image/png": "[encoded data removed]",
      "text/plain": [
       "<matplotlib.figure.Figure at 0xd64c6a0>"
      ]
     },
     "metadata": {},
     "output_type": "display_data"
    }
   ],
   "source": [
    "print(X.shape[0])\n",
    "\n",
    "X_train = X[0:X.shape[0]-100]\n",
    "X_test = X[X.shape[0]-100:X.shape[0]]\n",
    "\n",
    "y_train = y[0:X.shape[0]-100]\n",
    "y_test = y[X.shape[0]-100:X.shape[0]]\n",
    "\n",
    "linear.fit(X_train, y_train)\n",
    "\n",
    "y_pred = linear.predict(X_test)\n",
    "\n",
    "plt.plot(y_test.values)\n",
    "plt.plot(y_pred)\n",
    "plt.legend(['test', 'pred'])\n",
    "plt.show()"
   ]
  },
  {
   "cell_type": "code",
   "execution_count": 135,
   "metadata": {
    "collapsed": false
   },
   "outputs": [
    {
     "name": "stdout",
     "output_type": "stream",
     "text": [
      "[-0.0419075  -0.00047439  0.00551271 -0.00829576 -0.01657247 -0.00226281\n",
      "  0.00034049 -0.01078804 -0.00313874 -0.00641715]\n",
      "-0.00840036564944\n",
      "[ 1.03431477  0.99511789  0.99212087  1.00589649  1.01657247  1.00211375\n",
      "  0.99951084  1.01018673  1.00075174  0.99908305]\n",
      "30.2675625358\n"
     ]
    }
   ],
   "source": [
    "import numpy as np\n",
    "\n",
    "data_no_nan = data\n",
    "data_no_nan['Daily Return']= data_no_nan['Daily Return'].shift(-1)\n",
    "data_no_nan = data_no_nan.dropna()\n",
    "\n",
    "X = data_no_nan[['Volume', 'Adj Close', 'Momentum 5d', 'Momentum 10d']]\n",
    "y = np.sign(data_no_nan['Daily Return'])\n",
    "\n",
    "tscv = TimeSeriesSplit(n_splits=10)\n",
    "\n",
    "linear = linear_model.LinearRegression(normalize=True)\n",
    "\n",
    "print(cross_val_score(linear, X, y, cv=tscv))\n",
    "\n",
    "print(cross_val_score(linear, X, y, cv=tscv).mean())\n",
    "\n",
    "mse_scorer = make_scorer(mean_squared_error)\n",
    "\n",
    "print(cross_val_score(linear, X, y, scoring=mse_scorer, cv=tscv))\n",
    "\n",
    "print(cross_val_score(linear, X, y, scoring=mse_scorer, cv=tscv).mean()/y.mean())"
   ]
  },
  {
   "cell_type": "code",
   "execution_count": 138,
   "metadata": {
    "collapsed": false
   },
   "outputs": [
    {
     "name": "stdout",
     "output_type": "stream",
     "text": [
      "1806\n"
     ]
    },
    {
     "data": {
      "image/png": "[encoded data removed]",
      "text/plain": [
       "<matplotlib.figure.Figure at 0x10bf8be0>"
      ]
     },
     "metadata": {},
     "output_type": "display_data"
    }
   ],
   "source": [
    "print(X.shape[0])\n",
    "\n",
    "X_train = X[0:X.shape[0]-100]\n",
    "X_test = X[X.shape[0]-100:X.shape[0]]\n",
    "\n",
    "y_train = y[0:X.shape[0]-100]\n",
    "y_test = y[X.shape[0]-100:X.shape[0]]\n",
    "\n",
    "linear.fit(X_train, y_train)\n",
    "\n",
    "y_pred = linear.predict(X_test)\n",
    "\n",
    "plt.plot(y_test.values)\n",
    "plt.plot(np.sign(y_pred))\n",
    "plt.legend(['test', 'pred'])\n",
    "plt.show()"
   ]
  }
 ],
 "metadata": {
  "kernelspec": {
   "display_name": "Python 2",
   "language": "python",
   "name": "python2"
  },
  "language_info": {
   "codemirror_mode": {
    "name": "ipython",
    "version": 2
   },
   "file_extension": ".py",
   "mimetype": "text/x-python",
   "name": "python",
   "nbconvert_exporter": "python",
   "pygments_lexer": "ipython2",
   "version": "2.7.13"
  }
 },
 "nbformat": 4,
 "nbformat_minor": 2
}
